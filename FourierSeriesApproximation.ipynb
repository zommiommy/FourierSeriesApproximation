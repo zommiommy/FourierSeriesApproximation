{
 "cells": [
  {
   "cell_type": "markdown",
   "metadata": {},
   "source": [
    "# Foruier Series Approximation for discrete time serires"
   ]
  },
  {
   "cell_type": "markdown",
   "metadata": {},
   "source": [
    "Dependancy:"
   ]
  },
  {
   "cell_type": "code",
   "execution_count": 1,
   "metadata": {
    "collapsed": true
   },
   "outputs": [],
   "source": [
    "import numpy as np\n",
    "from scipy import linalg"
   ]
  },
  {
   "cell_type": "markdown",
   "metadata": {},
   "source": [
    "Final Code"
   ]
  },
  {
   "cell_type": "code",
   "execution_count": 2,
   "metadata": {
    "collapsed": true
   },
   "outputs": [],
   "source": [
    "#the function to calculate the coefficent\n",
    "def approx(x, y, n, w):\n",
    "    x = np.matrix(x).transpose()\n",
    "    y = np.matrix(y).transpose()\n",
    "\n",
    "    f, b = x.shape\n",
    "    c, d = y.shape\n",
    "\n",
    "    if c != f or b != d:\n",
    "        print('The Input vector have wrong dimension')\n",
    "        return -1\n",
    "\n",
    "    j = np.matrix(np.arange(1,n+1))\n",
    "    V1 = np.cos(w*x*j)\n",
    "    j = np.matrix(np.arange(n+1,2*n+1))\n",
    "    V2 = np.sin(w*x*(j-n))\n",
    "\n",
    "    V = np.concatenate([V1,V2],axis=1)\n",
    "\n",
    "    Q, R = linalg.qr(V)\n",
    "\n",
    "    R = R[:2 * n, :2 * n]\n",
    "    Q = Q[:f, :2 * n]\n",
    "    # coeff = linalg.solve_triangular(R, (np.dot(Q.transpose(), y)),check_finite=False)\n",
    "    coeff = linalg.solve_triangular(R, (np.dot(Q.transpose(), y)))\n",
    "\n",
    "    n = int(len(coeff) / 2)\n",
    "    mag = np.sqrt(coeff[:n]**2+coeff[n:]**2)\n",
    "    angle = np.arctan2(coeff[:n],coeff[n:])\n",
    "\n",
    "    r = []\n",
    "    for i,(m,a) in enumerate(zip(mag,angle)):\n",
    "        r.append([float(m),i+1,float(a)])\n",
    "    return r\n",
    "\n",
    "#the function to calculate the reconstructed function from the coefficent\n",
    "def calc_fourier(X,coeff,vmed,w=0.5):\n",
    "    y = np.zeros_like(X) + vmed\n",
    "    for (m,i,p) in coeff:\n",
    "            y += m*np.sin(w*i*X+p)\n",
    "    return y\n",
    "\n",
    "#approx a function and get both the coefficent and the reconstructed function\n",
    "def fourier_approx(funzione,n=0,w=0.5):\n",
    "\n",
    "    fmean = np.mean(funzione)\n",
    "\n",
    "    funzione = list(funzione)\n",
    "\n",
    "    funzione = funzione + funzione[::-1] \n",
    "\n",
    "    mean = np.mean(funzione)\n",
    "\n",
    "    funzione = [z - mean for z in funzione]\n",
    "\n",
    "    T = np.linspace( 0, 4 * np.pi, num=len(funzione), endpoint=True)\n",
    "    if n == 0:\n",
    "        n = int(len(T) / 2) - 1\n",
    "\n",
    "    if n < 1:\n",
    "        return -1\n",
    "\n",
    "    coeff = approx(T, funzione, n, w)\n",
    "\n",
    "    T =  np.array(T [:int(len(T)/2)])\n",
    "    funzione =  np.array(funzione [:int(len(funzione)/2)])\n",
    "    \n",
    "    y = calc_fourier(T,coeff[:index+1],0)\n",
    "    \n",
    "    return y,coeff"
   ]
  },
  {
   "cell_type": "markdown",
   "metadata": {},
   "source": [
    "# How and Why it work"
   ]
  },
  {
   "cell_type": "markdown",
   "metadata": {},
   "source": [
    "We start with the foruier series:"
   ]
  },
  {
   "cell_type": "markdown",
   "metadata": {},
   "source": [
    "### $$f(t) = \\frac{a_0}{2} + \\sum_{n = 1}^{N} \\left [ a_n cos(nwt) + b_n sin(nwt) \\right ]$$"
   ]
  },
  {
   "cell_type": "markdown",
   "metadata": {
    "collapsed": true
   },
   "source": [
    "we get if we manage to get a function with mean value equal to zero we can simplify to:"
   ]
  },
  {
   "cell_type": "markdown",
   "metadata": {},
   "source": [
    "### $$f(t) = \\sum_{n = 1}^{N} \\left [ a_n cos(nwt) + b_n sin(nwt) \\right ]$$"
   ]
  },
  {
   "cell_type": "markdown",
   "metadata": {},
   "source": [
    "### $$ f(t) = \\sum_{n = 1}^{N} < \\begin{pmatrix}\n",
    "cos(nwt)\n",
    "\\\\ \n",
    "sin(nwt)\n",
    "\\end{pmatrix},\n",
    "\\begin{pmatrix}\n",
    "a_n\n",
    "\\\\ \n",
    "b_n\n",
    "\\end{pmatrix} >\n",
    "$$"
   ]
  },
  {
   "cell_type": "markdown",
   "metadata": {},
   "source": [
    "### $$f(t) = \\sum_{n = 1}^{N} \\begin{pmatrix}\n",
    "cos(nwt)\n",
    "& \n",
    "sin(nwt)\n",
    "\\end{pmatrix}\n",
    "\\begin{pmatrix}\n",
    "a_n\n",
    "\\\\ \n",
    "b_n\n",
    "\\end{pmatrix}\n",
    "$$"
   ]
  },
  {
   "cell_type": "markdown",
   "metadata": {},
   "source": [
    "$$f(t) = \\begin{pmatrix}\n",
    "cos(wt)\n",
    "&\n",
    "cos(2wt)\n",
    "&\n",
    "...\n",
    "&\n",
    "cos((N-1)wt)\n",
    "& \n",
    "sin(wt)\n",
    "&\n",
    "sin(2wt)\n",
    "&\n",
    "...\n",
    "&\n",
    "sin((N-1)wt)\n",
    "\\end{pmatrix}\n",
    "\\begin{pmatrix}\n",
    "a_1\n",
    "\\\\\n",
    "a_2\n",
    "\\\\\n",
    "...\n",
    "\\\\\n",
    "a_{N-1}\n",
    "\\\\ \n",
    "b_1\n",
    "\\\\\n",
    "b_2\n",
    "\\\\\n",
    "...\n",
    "\\\\\n",
    "b_{N-1}\n",
    "\\end{pmatrix}\n",
    "$$"
   ]
  },
  {
   "cell_type": "markdown",
   "metadata": {
    "collapsed": true
   },
   "source": [
    "now if we substitute t with the succession $T_k = \\{t_k\\} $ we get $k$ row forming a matrix $A$ with $k$ row and $2n$ column\n",
    "and the succession $Y_k(T_k) = {y_k}$ that$ y_k = f(t_k)$ wich form the vector $Y$ "
   ]
  },
  {
   "cell_type": "markdown",
   "metadata": {},
   "source": [
    "$$ f(T_k) = \\begin{pmatrix}\n",
    "cos(wt_1)\n",
    "&\n",
    "cos(2wt_1)\n",
    "&\n",
    "...\n",
    "&\n",
    "cos((N-1)wt_1)\n",
    "& \n",
    "sin(wt_1)\n",
    "&\n",
    "sin(2wt_1)\n",
    "&\n",
    "...\n",
    "&\n",
    "sin((N-1)wt_1)\n",
    "\\\\\n",
    "cos(wt_2)\n",
    "&\n",
    "cos(2wt_2)\n",
    "&\n",
    "...\n",
    "&\n",
    "cos((N-1)wt_2)\n",
    "& \n",
    "sin(wt_2)\n",
    "&\n",
    "sin(2wt_2)\n",
    "&\n",
    "...\n",
    "&\n",
    "sin((N-1)wt_2)\n",
    "\\\\\n",
    "...\n",
    "&\n",
    "...\n",
    "&\n",
    "...\n",
    "&\n",
    "...\n",
    "&\n",
    "...\n",
    "&\n",
    "...\n",
    "&\n",
    "...\n",
    "&\n",
    "...\n",
    "\\\\\n",
    "cos(wt_K)\n",
    "&\n",
    "cos(2wt_K)\n",
    "&\n",
    "...\n",
    "&\n",
    "cos((N-1)wt_K)\n",
    "& \n",
    "sin(wt_K)\n",
    "&\n",
    "sin(2wt_K)\n",
    "&\n",
    "...\n",
    "&\n",
    "sin((N-1)wt_K)\n",
    "\\end{pmatrix}\n",
    "\\begin{pmatrix}\n",
    "a_1\n",
    "\\\\\n",
    "a_2\n",
    "\\\\\n",
    "...\n",
    "\\\\\n",
    "a_{N-1}\n",
    "\\\\ \n",
    "b_1\n",
    "\\\\\n",
    "b_2\n",
    "\\\\\n",
    "...\n",
    "\\\\\n",
    "b_{N-1}\n",
    "\\end{pmatrix}\n",
    "=\n",
    "\\begin{pmatrix}\n",
    "y_1\n",
    "\\\\\n",
    "y_2\n",
    "\\\\\n",
    "...\n",
    "\\\\\n",
    "...\n",
    "\\\\ \n",
    "...\n",
    "\\\\\n",
    "...\n",
    "\\\\\n",
    "...\n",
    "\\\\\n",
    "y_{k}\n",
    "\\end{pmatrix}\n",
    "$$"
   ]
  },
  {
   "cell_type": "markdown",
   "metadata": {},
   "source": [
    "so now we have a linear sistem to solve for+the vector of $a_n$ and $ b_n$ called $C$"
   ]
  },
  {
   "cell_type": "markdown",
   "metadata": {},
   "source": [
    "$$ A C = Y$$"
   ]
  },
  {
   "cell_type": "markdown",
   "metadata": {},
   "source": [
    "the system to be solvable it have to have $det(A) > 0$"
   ]
  },
  {
   "cell_type": "markdown",
   "metadata": {},
   "source": [
    "so we have to have more lineary indipendent row than coloumn, so the maximum number of coloumn it can have is when $k = 2n$ if all the row are lineary independent"
   ]
  },
  {
   "cell_type": "markdown",
   "metadata": {},
   "source": [
    "in the case $ non lineary independent row < 2n$ the sistem is overdeterminated so to solve it we can use the $QR$ decomposition"
   ]
  },
  {
   "cell_type": "markdown",
   "metadata": {},
   "source": [
    "so that $ A = QR$ so we can compute $$ A = \\frac{R}{Q^T Y} $$"
   ]
  },
  {
   "cell_type": "markdown",
   "metadata": {},
   "source": [
    "and now we have the coefficent of the fourier series ready to be used"
   ]
  },
  {
   "cell_type": "markdown",
   "metadata": {},
   "source": [
    "There is a possible ottimization if the approximation is computed in preprocessing:\n",
    "        if we use the geometric identity"
   ]
  },
  {
   "cell_type": "markdown",
   "metadata": {},
   "source": [
    "### $$ acos(wt) + bsin(wt) = \\sqrt{a^2 + b^2} sin(wt + arctan(\\frac{b}{a}))$$\n",
    " "
   ]
  },
  {
   "cell_type": "markdown",
   "metadata": {},
   "source": [
    " and now we can call $c_n = \\sqrt{a_n^2 + b_n^2} $ and $\\phi_n = arctan(\\frac{b_n}{a_n})$"
   ]
  },
  {
   "cell_type": "markdown",
   "metadata": {},
   "source": [
    "so we have a final series in the form of\n",
    "### $$ f(t) = \\sum_{n = 1}^{N} c_n sin(nwt + \\phi_n)$$"
   ]
  },
  {
   "cell_type": "markdown",
   "metadata": {},
   "source": [
    "# Implementation"
   ]
  },
  {
   "cell_type": "markdown",
   "metadata": {},
   "source": [
    "we'll import matplotlib to plot the result"
   ]
  },
  {
   "cell_type": "code",
   "execution_count": 3,
   "metadata": {
    "collapsed": true
   },
   "outputs": [],
   "source": [
    "import matplotlib.pyplot as plt\n",
    "from pprint import pprint"
   ]
  },
  {
   "cell_type": "markdown",
   "metadata": {},
   "source": [
    "we start with f that is a sawthoot wave"
   ]
  },
  {
   "cell_type": "code",
   "execution_count": 4,
   "metadata": {
    "collapsed": false
   },
   "outputs": [
    {
     "data": {
      "image/png": "[encoded data removed]",
      "text/plain": [
       "<matplotlib.figure.Figure at 0x2af07fec1d0>"
      ]
     },
     "metadata": {},
     "output_type": "display_data"
    }
   ],
   "source": [
    "f = np.linspace(0,1,100)\n",
    "f = np.concatenate((f,f,f,f))\n",
    "\n",
    "T = np.linspace( 0, 2 * np.pi, num=len(f), endpoint=True) - np.pi\n",
    "\n",
    "plt.plot(T,f)\n",
    "plt.show()"
   ]
  },
  {
   "cell_type": "markdown",
   "metadata": {},
   "source": [
    "we choose the number of armonichs that we want in this case 50 but $ n \\in [1,N)$ where $N$ is len(f)"
   ]
  },
  {
   "cell_type": "code",
   "execution_count": 5,
   "metadata": {
    "collapsed": true
   },
   "outputs": [],
   "source": [
    "n = 50\n",
    "w = 1"
   ]
  },
  {
   "cell_type": "markdown",
   "metadata": {},
   "source": [
    "first we get rid of the mean"
   ]
  },
  {
   "cell_type": "code",
   "execution_count": 6,
   "metadata": {
    "collapsed": false
   },
   "outputs": [
    {
     "data": {
      "image/png": "[encoded data removed]",
      "text/plain": [
       "<matplotlib.figure.Figure at 0x2af07fd6dd8>"
      ]
     },
     "metadata": {},
     "output_type": "display_data"
    }
   ],
   "source": [
    "f_mean = np.mean(f)\n",
    "f -= f_mean\n",
    "\n",
    "plt.plot(T,f)\n",
    "plt.show()"
   ]
  },
  {
   "cell_type": "markdown",
   "metadata": {},
   "source": [
    "we transforme the array into a coloumn vector"
   ]
  },
  {
   "cell_type": "code",
   "execution_count": 7,
   "metadata": {
    "collapsed": true
   },
   "outputs": [],
   "source": [
    "x = np.matrix(T).transpose()\n",
    "y = np.matrix(f).transpose()"
   ]
  },
  {
   "cell_type": "markdown",
   "metadata": {},
   "source": [
    "we create the C matrix"
   ]
  },
  {
   "cell_type": "code",
   "execution_count": 8,
   "metadata": {
    "collapsed": false
   },
   "outputs": [
    {
     "name": "stdout",
     "output_type": "stream",
     "text": [
      "[[ -1.00000000e+00   1.00000000e+00  -1.00000000e+00 ...,   5.87830464e-15\n",
      "   -1.66589104e-14  -9.82193362e-16]\n",
      " [ -9.99876013e-01   9.99504084e-01  -9.98884304e-01 ...,   6.85923400e-01\n",
      "   -6.97296801e-01   7.08497291e-01]\n",
      " [ -9.99504084e-01   9.98016828e-01  -9.95539708e-01 ...,   9.98256908e-01\n",
      "   -9.99620307e-01   9.99992251e-01]\n",
      " ..., \n",
      " [ -9.99504084e-01   9.98016828e-01  -9.95539708e-01 ...,  -9.98256908e-01\n",
      "    9.99620307e-01  -9.99992251e-01]\n",
      " [ -9.99876013e-01   9.99504084e-01  -9.98884304e-01 ...,  -6.85923400e-01\n",
      "    6.97296801e-01  -7.08497291e-01]\n",
      " [ -1.00000000e+00   1.00000000e+00  -1.00000000e+00 ...,  -5.87830464e-15\n",
      "    1.66589104e-14   9.82193362e-16]]\n"
     ]
    }
   ],
   "source": [
    "j = np.matrix(np.arange(1,n+1))\n",
    "C1 = np.cos(w*x*j)\n",
    "j = np.matrix(np.arange(n+1,2*n+1))\n",
    "C2 = np.sin(w*x*(j-n))\n",
    "\n",
    "C = np.concatenate([C1,C2],axis=1)\n",
    "print(C)"
   ]
  },
  {
   "cell_type": "markdown",
   "metadata": {},
   "source": [
    "the QR decomposition"
   ]
  },
  {
   "cell_type": "code",
   "execution_count": 9,
   "metadata": {
    "collapsed": true
   },
   "outputs": [],
   "source": [
    "Q, R = linalg.qr(C)"
   ]
  },
  {
   "cell_type": "markdown",
   "metadata": {},
   "source": [
    "we truncate the matrix so that it's possible to solve the system"
   ]
  },
  {
   "cell_type": "code",
   "execution_count": 10,
   "metadata": {
    "collapsed": false
   },
   "outputs": [],
   "source": [
    "R = R[:2 * n, :2 * n]\n",
    "Q = Q[:x.shape[0], :2 * n]"
   ]
  },
  {
   "cell_type": "markdown",
   "metadata": {},
   "source": [
    "we solve the system and get the coeff vector "
   ]
  },
  {
   "cell_type": "code",
   "execution_count": 11,
   "metadata": {
    "collapsed": true
   },
   "outputs": [],
   "source": [
    "coeff = linalg.solve_triangular(R, (np.dot(Q.transpose(), y)))\n",
    "# coeff = linalg.solve_triangular(R, (np.dot(Q.transpose(), y)),check_finite=False) Alternative way"
   ]
  },
  {
   "cell_type": "markdown",
   "metadata": {},
   "source": [
    "We separate the matrix into the sin and cos coeff list"
   ]
  },
  {
   "cell_type": "code",
   "execution_count": 12,
   "metadata": {
    "collapsed": true
   },
   "outputs": [],
   "source": [
    "n_ = int(len(coeff) / 2)\n",
    "sin_coeff = coeff[:n_]\n",
    "cos_coeff = coeff[n_:]"
   ]
  },
  {
   "cell_type": "markdown",
   "metadata": {},
   "source": [
    "we convert to $c$ and $\\phi$ and now we have all the coefficent ready to go"
   ]
  },
  {
   "cell_type": "code",
   "execution_count": 13,
   "metadata": {
    "collapsed": true
   },
   "outputs": [],
   "source": [
    "mag = np.sqrt(cos_coeff**2+sin_coeff**2)\n",
    "phi = np.arctan2(sin_coeff,cos_coeff)"
   ]
  },
  {
   "cell_type": "markdown",
   "metadata": {},
   "source": [
    "we calculate the result function and re-add the mean to the funciton"
   ]
  },
  {
   "cell_type": "code",
   "execution_count": 14,
   "metadata": {
    "collapsed": false
   },
   "outputs": [],
   "source": [
    "y = np.zeros_like(T)\n",
    "for (m,i,p) in zip(mag,range(n),phi):\n",
    "        y += m*np.sin(w*(i+1)*T+p)\n",
    "y += f_mean\n",
    "f += f_mean"
   ]
  },
  {
   "cell_type": "markdown",
   "metadata": {},
   "source": [
    "# Result"
   ]
  },
  {
   "cell_type": "code",
   "execution_count": 15,
   "metadata": {
    "collapsed": false
   },
   "outputs": [
    {
     "data": {
      "image/png": "[encoded data removed]",
      "text/plain": [
       "<matplotlib.figure.Figure at 0x2af091a75f8>"
      ]
     },
     "metadata": {},
     "output_type": "display_data"
    }
   ],
   "source": [
    "plt.plot(T,f)\n",
    "plt.plot(T,y)\n",
    "plt.show()"
   ]
  }
 ],
 "metadata": {
  "anaconda-cloud": {},
  "kernelspec": {
   "display_name": "Python [conda root]",
   "language": "python",
   "name": "conda-root-py"
  },
  "language_info": {
   "codemirror_mode": {
    "name": "ipython",
    "version": 3
   },
   "file_extension": ".py",
   "mimetype": "text/x-python",
   "name": "python",
   "nbconvert_exporter": "python",
   "pygments_lexer": "ipython3",
   "version": "3.5.2"
  }
 },
 "nbformat": 4,
 "nbformat_minor": 1
}
